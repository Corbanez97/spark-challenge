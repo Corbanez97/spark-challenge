{
 "cells": [
  {
   "cell_type": "code",
   "execution_count": 1,
   "id": "7f97ee2f-8c2d-458f-b686-98f67e95687e",
   "metadata": {},
   "outputs": [
    {
     "name": "stdout",
     "output_type": "stream",
     "text": [
      "Welcome to\n",
      "      ____              __\n",
      "     / __/__  ___ _____/ /__\n",
      "    _\\ \\/ _ \\/ _ `/ __/  '_/\n",
      "   /___/ .__/\\_,_/_/ /_/\\_\\   version 3.5.4\n",
      "      /_/\n",
      "                        \n",
      "Using Scala version 2.12.18, OpenJDK 64-Bit Server VM, 11.0.25\n",
      "Branch HEAD\n",
      "Compiled by user yangjie01 on 2024-12-17T04:51:46Z\n",
      "Revision a6f220d951742f4074b37772485ee0ec7a774e7d\n",
      "Url https://github.com/apache/spark\n",
      "Type --help for more information.\n",
      "Collecting delta-spark==3.3.0\n",
      "  Downloading delta_spark-3.3.0-py3-none-any.whl.metadata (2.0 kB)\n",
      "Requirement already satisfied: pyspark<3.6.0,>=3.5.3 in /opt/conda/lib/python3.11/site-packages (from delta-spark==3.3.0) (3.5.4)\n",
      "Requirement already satisfied: importlib-metadata>=1.0.0 in /opt/conda/lib/python3.11/site-packages (from delta-spark==3.3.0) (6.8.0)\n",
      "Requirement already satisfied: zipp>=0.5 in /opt/conda/lib/python3.11/site-packages (from importlib-metadata>=1.0.0->delta-spark==3.3.0) (3.17.0)\n",
      "Requirement already satisfied: py4j==0.10.9.7 in /opt/conda/lib/python3.11/site-packages (from pyspark<3.6.0,>=3.5.3->delta-spark==3.3.0) (0.10.9.7)\n",
      "Downloading delta_spark-3.3.0-py3-none-any.whl (21 kB)\n",
      "Installing collected packages: delta-spark\n",
      "Successfully installed delta-spark-3.3.0\n"
     ]
    }
   ],
   "source": [
    "!pyspark --version\n",
    "\n",
    "!pip install delta-spark==3.3.0"
   ]
  },
  {
   "cell_type": "code",
   "execution_count": 2,
   "id": "3e78514d-0758-4387-8b72-698a27ab38ce",
   "metadata": {},
   "outputs": [
    {
     "name": "stdout",
     "output_type": "stream",
     "text": [
      ":: loading settings :: url = jar:file:/usr/local/spark/jars/ivy-2.5.1.jar!/org/apache/ivy/core/settings/ivysettings.xml\n"
     ]
    },
    {
     "name": "stderr",
     "output_type": "stream",
     "text": [
      "Ivy Default Cache set to: /home/jovyan/.ivy2/cache\n",
      "The jars for the packages stored in: /home/jovyan/.ivy2/jars\n",
      "io.delta#delta-spark_2.12 added as a dependency\n",
      "mysql#mysql-connector-java added as a dependency\n",
      ":: resolving dependencies :: org.apache.spark#spark-submit-parent-ab4e0453-844f-419b-9cfb-4bc4475b1158;1.0\n",
      "\tconfs: [default]\n",
      "\tfound io.delta#delta-spark_2.12;3.3.0 in central\n",
      "\tfound io.delta#delta-storage;3.3.0 in central\n",
      "\tfound org.antlr#antlr4-runtime;4.9.3 in central\n",
      "mysql#mysql-connector-java;8.0.33 is relocated to com.mysql#mysql-connector-j;8.0.33. Please update your dependencies.\n",
      "\tfound mysql#mysql-connector-java;8.0.33 in central\n",
      "\tfound com.mysql#mysql-connector-j;8.0.33 in central\n",
      "\tfound com.google.protobuf#protobuf-java;3.21.9 in central\n",
      "downloading https://repo1.maven.org/maven2/io/delta/delta-spark_2.12/3.3.0/delta-spark_2.12-3.3.0.jar ...\n",
      "\t[SUCCESSFUL ] io.delta#delta-spark_2.12;3.3.0!delta-spark_2.12.jar (1355ms)\n",
      "downloading https://repo1.maven.org/maven2/io/delta/delta-storage/3.3.0/delta-storage-3.3.0.jar ...\n",
      "\t[SUCCESSFUL ] io.delta#delta-storage;3.3.0!delta-storage.jar (285ms)\n",
      "downloading https://repo1.maven.org/maven2/org/antlr/antlr4-runtime/4.9.3/antlr4-runtime-4.9.3.jar ...\n",
      "\t[SUCCESSFUL ] org.antlr#antlr4-runtime;4.9.3!antlr4-runtime.jar (290ms)\n",
      "downloading https://repo1.maven.org/maven2/com/mysql/mysql-connector-j/8.0.33/mysql-connector-j-8.0.33.jar ...\n",
      "\t[SUCCESSFUL ] com.mysql#mysql-connector-j;8.0.33!mysql-connector-j.jar (331ms)\n",
      "downloading https://repo1.maven.org/maven2/com/google/protobuf/protobuf-java/3.21.9/protobuf-java-3.21.9.jar ...\n",
      "\t[SUCCESSFUL ] com.google.protobuf#protobuf-java;3.21.9!protobuf-java.jar(bundle) (311ms)\n",
      ":: resolution report :: resolve 6436ms :: artifacts dl 2579ms\n",
      "\t:: modules in use:\n",
      "\tcom.google.protobuf#protobuf-java;3.21.9 from central in [default]\n",
      "\tcom.mysql#mysql-connector-j;8.0.33 from central in [default]\n",
      "\tio.delta#delta-spark_2.12;3.3.0 from central in [default]\n",
      "\tio.delta#delta-storage;3.3.0 from central in [default]\n",
      "\tmysql#mysql-connector-java;8.0.33 from central in [default]\n",
      "\torg.antlr#antlr4-runtime;4.9.3 from central in [default]\n",
      "\t---------------------------------------------------------------------\n",
      "\t|                  |            modules            ||   artifacts   |\n",
      "\t|       conf       | number| search|dwnlded|evicted|| number|dwnlded|\n",
      "\t---------------------------------------------------------------------\n",
      "\t|      default     |   6   |   6   |   6   |   0   ||   5   |   5   |\n",
      "\t---------------------------------------------------------------------\n",
      ":: retrieving :: org.apache.spark#spark-submit-parent-ab4e0453-844f-419b-9cfb-4bc4475b1158\n",
      "\tconfs: [default]\n",
      "\t5 artifacts copied, 0 already retrieved (11369kB/22ms)\n",
      "25/02/06 12:00:03 WARN NativeCodeLoader: Unable to load native-hadoop library for your platform... using builtin-java classes where applicable\n",
      "Setting default log level to \"WARN\".\n",
      "To adjust logging level use sc.setLogLevel(newLevel). For SparkR, use setLogLevel(newLevel).\n"
     ]
    }
   ],
   "source": [
    "from pyspark.sql import SparkSession\n",
    "from delta import *\n",
    "\n",
    "def read_mysql_table(spark, db_url, user, password, query):\n",
    "    table = spark.read \\\n",
    "    .format(\"jdbc\") \\\n",
    "    .option(\"url\", db_url) \\\n",
    "    .option(\"user\", user) \\\n",
    "    .option(\"password\", password) \\\n",
    "    .option(\"query\", query) \\\n",
    "    .option(\"driver\", \"com.mysql.cj.jdbc.Driver\") \\\n",
    "    .load()\n",
    "    return table\n",
    "\n",
    "my_packages = [\"mysql:mysql-connector-java:8.0.33\"]\n",
    "\n",
    "builder = (\n",
    "    SparkSession.builder\n",
    "    .appName(\"DE Challenge\")\n",
    "    .config('spark.master','local[*]')\n",
    "    .config(\"spark.sql.extensions\", \"io.delta.sql.DeltaSparkSessionExtension\")\n",
    "    .config(\"spark.sql.catalog.spark_catalog\",\"org.apache.spark.sql.delta.catalog.DeltaCatalog\")\n",
    "    )\n",
    "\n",
    "spark = configure_spark_with_delta_pip(builder, extra_packages=my_packages).getOrCreate()"
   ]
  },
  {
   "cell_type": "code",
   "execution_count": 3,
   "id": "12ead3d1-4618-4fa4-9c25-fc367f2b105c",
   "metadata": {},
   "outputs": [
    {
     "name": "stdout",
     "output_type": "stream",
     "text": [
      "+-----------+\n",
      "| TABLE_NAME|\n",
      "+-----------+\n",
      "|order_items|\n",
      "|     orders|\n",
      "|   products|\n",
      "|      users|\n",
      "+-----------+\n",
      "\n"
     ]
    }
   ],
   "source": [
    "database_url = \"jdbc:mysql://localhost:3306/test_db?useSSL=false&allowPublicKeyRetrieval=true\"\n",
    "user = \"jovyan\"\n",
    "password = \"password\"\n",
    "\n",
    "tables = read_mysql_table(spark, database_url, user, password, \"SELECT TABLE_NAME FROM information_schema.tables WHERE table_schema = 'test_db'\")\n",
    "\n",
    "tables.show()"
   ]
  },
  {
   "cell_type": "code",
   "execution_count": 4,
   "id": "d39d3a6c-8a09-414b-bd05-62d6c72a59e6",
   "metadata": {},
   "outputs": [],
   "source": [
    "order_items = read_mysql_table(spark, database_url, user, password, \"SELECT * FROM test_db.order_items\")\n",
    "orders = read_mysql_table(spark, database_url, user, password, \"SELECT * FROM test_db.orders\")\n",
    "products = read_mysql_table(spark, database_url, user, password, \"SELECT * FROM test_db.products\")\n",
    "users = read_mysql_table(spark, database_url, user, password, \"SELECT * FROM test_db.users\")\n",
    "\n",
    "# order_items.show()\n",
    "# orders.show()\n",
    "# products.show()\n",
    "# users.show()"
   ]
  },
  {
   "cell_type": "code",
   "execution_count": 5,
   "id": "2ae9da23-7db9-4678-b7ba-d925331a0a05",
   "metadata": {},
   "outputs": [
    {
     "name": "stdout",
     "output_type": "stream",
     "text": [
      "+---------+-----------+------------+----------+\n",
      "|user_name|total_spent|total_amount|total_diff|\n",
      "+---------+-----------+------------+----------+\n",
      "|    David|    1999.98|      300.99|   1698.99|\n",
      "|    Alice|    1759.96|      401.75|   1358.21|\n",
      "|  Charlie|     119.97|      150.00|    -30.03|\n",
      "|      Eve|      79.99|       75.25|      4.74|\n",
      "|      Bob|      49.99|       50.00|     -0.01|\n",
      "+---------+-----------+------------+----------+\n",
      "\n"
     ]
    }
   ],
   "source": [
    "order_items.createOrReplaceTempView(\"order_items\")\n",
    "orders.createOrReplaceTempView(\"orders\")\n",
    "products.createOrReplaceTempView(\"products\")\n",
    "users.createOrReplaceTempView(\"users\")\n",
    "\n",
    "query = \"\"\"WITH expenditure_by_user AS (\n",
    "    SELECT \n",
    "            u.name AS user_name\n",
    "        ,   SUM(oi.quantity * p.price) AS total_spent\n",
    "        ,   SUM(o.total_amount) AS total_amount\n",
    "    FROM order_items oi\n",
    "    JOIN orders o \n",
    "        ON oi.order_id = o.id\n",
    "    JOIN users u \n",
    "        ON o.user_id = u.id\n",
    "    JOIN products p \n",
    "        ON oi.product_id = p.id\n",
    "    GROUP BY u.name\n",
    "    ORDER BY total_spent DESC\n",
    ")\n",
    "\n",
    "SELECT \n",
    "    user_name, \n",
    "    total_spent, \n",
    "    total_amount, \n",
    "    total_spent - total_amount AS total_diff \n",
    "FROM expenditure_by_user\n",
    "\"\"\"\n",
    "\n",
    "results = spark.sql(query)\n",
    "\n",
    "results.write \\\n",
    "    .format(\"jdbc\") \\\n",
    "    .option(\"url\", database_url) \\\n",
    "    .option(\"dbtable\", \"test_db.results\") \\\n",
    "    .option(\"user\", user) \\\n",
    "    .option(\"password\", password) \\\n",
    "    .option(\"driver\", \"com.mysql.cj.jdbc.Driver\") \\\n",
    "    .mode(\"overwrite\") \\\n",
    "    .save()\n",
    "\n",
    "read_mysql_table(spark, database_url, user, password, \"SELECT * FROM test_db.results\").show()"
   ]
  },
  {
   "cell_type": "code",
   "execution_count": 6,
   "id": "04cbd227-5752-4109-b18a-425154589535",
   "metadata": {},
   "outputs": [
    {
     "name": "stderr",
     "output_type": "stream",
     "text": [
      "25/02/06 12:00:16 WARN SparkStringUtils: Truncated the string representation of a plan since it was too large. This behavior can be adjusted by setting 'spark.sql.debug.maxToStringFields'.\n",
      "                                                                                \r"
     ]
    },
    {
     "name": "stdout",
     "output_type": "stream",
     "text": [
      "+---------+-----------+------------+----------+\n",
      "|user_name|total_spent|total_amount|total_diff|\n",
      "+---------+-----------+------------+----------+\n",
      "|    David|    1999.98|      300.99|   1698.99|\n",
      "|    Alice|    1759.96|      401.75|   1358.21|\n",
      "|  Charlie|     119.97|      150.00|    -30.03|\n",
      "|      Eve|      79.99|       75.25|      4.74|\n",
      "|      Bob|      49.99|       50.00|     -0.01|\n",
      "+---------+-----------+------------+----------+\n",
      "\n"
     ]
    }
   ],
   "source": [
    "results.write.format(\"delta\").mode(\"overwrite\").option(\"mergeSchema\", \"true\").save(\"results\")\n",
    "delta_results = spark.read.format(\"delta\").load(\"results\")\n",
    "delta_results.show()"
   ]
  }
 ],
 "metadata": {
  "kernelspec": {
   "display_name": "Python 3 (ipykernel)",
   "language": "python",
   "name": "python3"
  },
  "language_info": {
   "codemirror_mode": {
    "name": "ipython",
    "version": 3
   },
   "file_extension": ".py",
   "mimetype": "text/x-python",
   "name": "python",
   "nbconvert_exporter": "python",
   "pygments_lexer": "ipython3",
   "version": "3.11.6"
  }
 },
 "nbformat": 4,
 "nbformat_minor": 5
}
